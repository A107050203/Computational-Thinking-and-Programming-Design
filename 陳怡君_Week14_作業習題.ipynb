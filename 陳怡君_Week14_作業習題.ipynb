{
  "nbformat": 4,
  "nbformat_minor": 0,
  "metadata": {
    "kernelspec": {
      "display_name": "Python 3",
      "language": "python",
      "name": "python3"
    },
    "language_info": {
      "codemirror_mode": {
        "name": "ipython",
        "version": 3
      },
      "file_extension": ".py",
      "mimetype": "text/x-python",
      "name": "python",
      "nbconvert_exporter": "python",
      "pygments_lexer": "ipython3",
      "version": "3.8.5"
    },
    "colab": {
      "name": "陳怡君 - Week14 - 作業習題.ipynb",
      "provenance": [],
      "collapsed_sections": [],
      "include_colab_link": true
    }
  },
  "cells": [
    {
      "cell_type": "markdown",
      "metadata": {
        "id": "view-in-github",
        "colab_type": "text"
      },
      "source": [
        "<a href=\"https://colab.research.google.com/github/A107050203/Computational-Thinking-and-Programming-Design/blob/main/%E9%99%B3%E6%80%A1%E5%90%9B_Week14_%E4%BD%9C%E6%A5%AD%E7%BF%92%E9%A1%8C.ipynb\" target=\"_parent\"><img src=\"https://colab.research.google.com/assets/colab-badge.svg\" alt=\"Open In Colab\"/></a>"
      ]
    },
    {
      "cell_type": "markdown",
      "metadata": {
        "id": "oGptGG14FfF_"
      },
      "source": [
        "**隨堂練習1： BMI 計算**\n",
        "\n",
        "請寫一個程式讓使用者輸入身高與體重，顯示BMI 值與肥胖程度。 BMI 等於體重（KG）除以身高（M）的平方，而BMI 與肥胖分類標準如下：\n",
        "\n",
        "若BMI 值小於18，則顯示「體重過輕」，否則若BMI 值小於24，則顯示「體重正常」，若BMI 值小於27，則顯示「體重過重」，否則顯示「體重肥胖」。"
      ]
    },
    {
      "cell_type": "code",
      "metadata": {
        "id": "CQzqeBNBFfGH",
        "colab": {
          "base_uri": "https://localhost:8080/"
        },
        "outputId": "fe5705f4-5aa1-4910-c01f-d4e80428fa69"
      },
      "source": [
        "##輸入身高體重資訊，計算BMI。\n",
        "w=float(input(\"請輸入體重(KG)?\"))\n",
        "h=float(input(\"請輸入身高(M)?\"))\n",
        "bmi=w/(h*h)\n",
        "print(\"BMI為\",bmi)\n",
        "if bmi < 18:\n",
        "   print(\"體重過輕\")\n",
        "elif bmi < 24:\n",
        "   print(\"體重正常\")\n",
        "elif bmi < 27:\n",
        "   print(\"體重過重\")\n",
        "else:\n",
        "   print(\"體重過重\")"
      ],
      "execution_count": null,
      "outputs": [
        {
          "output_type": "stream",
          "text": [
            "請輸入體重(KG)?45\n",
            "請輸入身高(M)?161\n",
            "BMI為 0.0017360441340997647\n",
            "體重過輕\n"
          ],
          "name": "stdout"
        }
      ]
    },
    {
      "cell_type": "markdown",
      "metadata": {
        "id": "ky_i7583FfGI"
      },
      "source": [
        "**隨堂練習2： 三一律(單向選擇、雙向與巢狀選擇、多向選擇)**\n",
        "\n",
        "請輸入一個數，然後判斷這個數是正數、是負數或者是零。"
      ]
    },
    {
      "cell_type": "code",
      "metadata": {
        "id": "Ra4p1VOhFfGJ",
        "colab": {
          "base_uri": "https://localhost:8080/"
        },
        "outputId": "96bf2f80-620e-4039-87f6-0b14912b6f97"
      },
      "source": [
        "##方法(一):單向選擇\n",
        "num=int(input(\"Pick a number:\"))\n",
        "if num > 0:\n",
        "  print(\"Your number is positive.\")\n",
        "if num < 0:\n",
        "  print(\"Your number is negative.\")\n",
        "if num == 0:\n",
        "  print(\"Your number is zero.\")\n",
        "print(\"Finished\")"
      ],
      "execution_count": null,
      "outputs": [
        {
          "output_type": "stream",
          "text": [
            "Pick a number:5\n",
            "Your number is positive.\n",
            "Finished\n"
          ],
          "name": "stdout"
        }
      ]
    },
    {
      "cell_type": "code",
      "metadata": {
        "colab": {
          "base_uri": "https://localhost:8080/"
        },
        "id": "zb95BCsAKmb9",
        "outputId": "3e9eea08-35da-42f8-aae6-647922ddfa17"
      },
      "source": [
        "##方法(二):雙向選擇+巢狀選擇\n",
        "num=int(input(\"Pick a number:\"))\n",
        "if num > 0:\n",
        "   print(\"Your number is positive.\")\n",
        "else:\n",
        "  if num < 0:\n",
        "   print(\"Your number is negative.\")\n",
        "  else:\n",
        "   print(\"Your number is zero.\")\n",
        "print(\"Finished\")"
      ],
      "execution_count": null,
      "outputs": [
        {
          "output_type": "stream",
          "text": [
            "Pick a number:6\n",
            "Your number is positive.\n",
            "Finished\n"
          ],
          "name": "stdout"
        }
      ]
    },
    {
      "cell_type": "code",
      "metadata": {
        "colab": {
          "base_uri": "https://localhost:8080/"
        },
        "id": "7uGzLvE5LR7g",
        "outputId": "747f265b-7650-4d72-bc2c-177a3daa898b"
      },
      "source": [
        "##方法(三):多項選擇\n",
        "num=int(input(\"Pick a number:\"))\n",
        "if num > 0:\n",
        "   print(\"Your number is positive.\")\n",
        "elif num< 0:\n",
        "   print(\"Your number is negative.\")\n",
        "else:\n",
        "   print(\"Your number is zero.\")\n",
        "print(\"Finished\")"
      ],
      "execution_count": null,
      "outputs": [
        {
          "output_type": "stream",
          "text": [
            "Pick a number:4\n",
            "Your number is positive.\n",
            "Finished\n"
          ],
          "name": "stdout"
        }
      ]
    },
    {
      "cell_type": "markdown",
      "metadata": {
        "id": "E5qUE-0RFfGJ"
      },
      "source": [
        "\n",
        "**練習5   體溫與發燒**\n",
        "\n",
        "設計程式根據體溫判斷是否發燒，由使用者輸入體溫，程式判斷是否發燒，假設體溫小於36度，顯示「體溫過低」，體溫大於等於36度小於38度，顯示「體溫正常」，否則若體溫大於等於38度小於39度，顯示「體溫有點燒」，否則體溫大於等於39度，顯示「體溫很燒」。\n",
        "\n",
        "輸入體溫「36.5」，輸出為「體溫正常」。\n",
        "\n",
        "～程式執行結果如下。\n",
        "\n",
        "請輸入體溫？36.5\n",
        "\n",
        "體溫正常"
      ]
    },
    {
      "cell_type": "code",
      "metadata": {
        "id": "pfWMr-CKFfGK",
        "colab": {
          "base_uri": "https://localhost:8080/"
        },
        "outputId": "edfaf660-62b3-42ca-e6af-62b8b8df859b"
      },
      "source": [
        "體溫=float(input(\"輸入體溫\"))\n",
        "if  體溫 <36:\n",
        "     print(\"體溫過低\")\n",
        "elif 體溫 <38:\n",
        "     print(\"體溫正常\")\n",
        "elif 體溫 <39:\n",
        "     print(\"體溫有點燒\")\n",
        "elif 體溫 >39:\n",
        "     print(\"體溫很燒\")"
      ],
      "execution_count": 7,
      "outputs": [
        {
          "output_type": "stream",
          "text": [
            "輸入體溫36.5\n",
            "體溫正常\n"
          ],
          "name": "stdout"
        }
      ]
    },
    {
      "cell_type": "markdown",
      "metadata": {
        "id": "EafMFQA2FfGK"
      },
      "source": [
        "**練習6  閏年判斷**\n",
        "\n",
        "設計程式允許輸入西元幾年，請求出該年是否是閏年，閏年表示該年多一天，若為4的倍數稱做閏年，但若為100的倍數就不為閏年，且若為400倍數又是閏年。(四年一潤、百年不潤、四百年再潤)\n",
        "\n",
        "輸入年份「2012」，輸出為「2012是閏年」。\n",
        "\n",
        "～程式執行結果如下。\n",
        "\n",
        "請輸入年份？2012\n",
        "\n",
        "2012 是閏年"
      ]
    },
    {
      "cell_type": "code",
      "metadata": {
        "id": "vye9BnJTFfGL",
        "colab": {
          "base_uri": "https://localhost:8080/"
        },
        "outputId": "944949e1-247c-4d13-a26f-e365860ed80d"
      },
      "source": [
        "年份=int(input(\"西元幾年?\"))\n",
        "if 年份 % 4 !=0 :\n",
        "   answer=\"不是閨年\"\n",
        "else:\n",
        "  if 年份 % 100 !=0:\n",
        "     answer=\"閨年\"\n",
        "  else:\n",
        "    if 年份 % 400 == 0:\n",
        "      answer=\"閨年\"\n",
        "      \n",
        "      \n",
        "    else:\n",
        "         answer=\"不是閨年\"\n",
        "print(answer)"
      ],
      "execution_count": 22,
      "outputs": [
        {
          "output_type": "stream",
          "text": [
            "西元幾年?2012\n",
            "閨年\n"
          ],
          "name": "stdout"
        }
      ]
    },
    {
      "cell_type": "markdown",
      "metadata": {
        "id": "y_gsKoRuFfGL"
      },
      "source": [
        "**練習12：計程車計費**\n",
        "\n",
        "某城市計程車計費3公里以內6元，超過3公里不足10公里、每公里1.8元，超過10公里則超過部分加收50%。此外停車等候每3分鐘收1元，請用Python寫出車費是多少。"
      ]
    },
    {
      "cell_type": "code",
      "metadata": {
        "id": "Esb7ydIGFfGL",
        "colab": {
          "base_uri": "https://localhost:8080/"
        },
        "outputId": "b64f7ce3-6383-4a26-ccad-a79c2e6ff94a"
      },
      "source": [
        "里程數=int(input(\"總里程數(KM)\"))\n",
        "if 里程數<=3:\n",
        "  money=6\n",
        "else:\n",
        "   if 里程數 <10:\n",
        "      money=6+(里程數-3)*1.8\n",
        "   else:\n",
        "      money =6+7*1.8+(里程數-10)*1.8*1.5\n",
        "print(\"金額=\", money)"
      ],
      "execution_count": 15,
      "outputs": [
        {
          "output_type": "stream",
          "text": [
            "總里程數(KM)800\n",
            "金額= 2151.6\n"
          ],
          "name": "stdout"
        }
      ]
    },
    {
      "cell_type": "code",
      "metadata": {
        "id": "oZb6N934FfGL"
      },
      "source": [
        ""
      ],
      "execution_count": null,
      "outputs": []
    }
  ]
}