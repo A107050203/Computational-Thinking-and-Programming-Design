{
  "nbformat": 4,
  "nbformat_minor": 0,
  "metadata": {
    "kernelspec": {
      "display_name": "Python 3",
      "language": "python",
      "name": "python3"
    },
    "language_info": {
      "codemirror_mode": {
        "name": "ipython",
        "version": 3
      },
      "file_extension": ".py",
      "mimetype": "text/x-python",
      "name": "python",
      "nbconvert_exporter": "python",
      "pygments_lexer": "ipython3",
      "version": "3.8.5"
    },
    "colab": {
      "name": "陳怡君-week13-條件選擇-作業練習.ipynb",
      "provenance": [],
      "collapsed_sections": [],
      "include_colab_link": true
    }
  },
  "cells": [
    {
      "cell_type": "markdown",
      "metadata": {
        "id": "view-in-github",
        "colab_type": "text"
      },
      "source": [
        "<a href=\"https://colab.research.google.com/github/A107050203/Computational-Thinking-and-Programming-Design/blob/main/%E9%99%B3%E6%80%A1%E5%90%9B_week13_%E6%A2%9D%E4%BB%B6%E9%81%B8%E6%93%87_%E4%BD%9C%E6%A5%AD%E7%B7%B4%E7%BF%92.ipynb\" target=\"_parent\"><img src=\"https://colab.research.google.com/assets/colab-badge.svg\" alt=\"Open In Colab\"/></a>"
      ]
    },
    {
      "cell_type": "markdown",
      "metadata": {
        "id": "9s29d7W5Kjr4"
      },
      "source": [
        "#### 隨堂練習1: 滿2000 打九折\n",
        "\n",
        "**請寫一個程式幫助店家計算顧客所需付出的金額。**\n",
        "\n",
        "採買物品時，有時會遇到店家為了刺激消費，會使用滿額折扣。例如，滿2000 打九折，未滿2000 則不打折。"
      ]
    },
    {
      "cell_type": "code",
      "metadata": {
        "colab": {
          "base_uri": "https://localhost:8080/"
        },
        "id": "cKWI-4FRKjr6",
        "outputId": "d962eb30-ac15-4019-aa3c-46d19409b558"
      },
      "source": [
        "## 隨堂練習:滿2000打九折\n",
        "cost=int(input('請輸入一個購買金額？'))\n",
        "if cost >= 2000:\n",
        "  print(cost*0.9)\n",
        "else:\n",
        "  print(cost)"
      ],
      "execution_count": null,
      "outputs": [
        {
          "output_type": "stream",
          "text": [
            "請輸入一個購買金額？2700\n",
            "2430.0\n"
          ],
          "name": "stdout"
        }
      ]
    },
    {
      "cell_type": "markdown",
      "metadata": {
        "id": "58JTaNApKjr7"
      },
      "source": [
        "#### 隨堂練習2: 判斷奇偶數\n",
        "\n",
        "請寫一個程式判斷輸入的值是奇數還是偶數。"
      ]
    },
    {
      "cell_type": "code",
      "metadata": {
        "colab": {
          "base_uri": "https://localhost:8080/"
        },
        "id": "WINZ0Y9FKjr8",
        "outputId": "30c4ae26-516c-46ca-8056-722c60521f65"
      },
      "source": [
        "## 隨堂練習:判斷奇偶數\n",
        "##版本(一)\n",
        "num=int(input('請輸入一個整數?'))\n",
        "if num%2==0:\n",
        "  print(num,'為偶數')\n",
        "else:\n",
        "  print(num,'為奇數')\n",
        "\n",
        "##版本(二)\n",
        "num=int(input('請輸入一個整數?'))\n",
        "if num%2==1: #餘數為1是奇數\n",
        "  print(num,'為奇數')\n",
        "else:\n",
        "  print(num,'為偶數')"
      ],
      "execution_count": null,
      "outputs": [
        {
          "output_type": "stream",
          "text": [
            "請輸入一個整數?3\n",
            "3 為奇數\n",
            "請輸入一個整數?5\n",
            "5 為奇數\n"
          ],
          "name": "stdout"
        }
      ]
    },
    {
      "cell_type": "markdown",
      "metadata": {
        "id": "FbIHaEAlKjr8"
      },
      "source": [
        "#### 練習7. Think Like a Computer Scientist\n",
        "\n",
        "如果輸入的num為20, 9, 5,和0，請用你的邏輯直接告訴我，下面兩組程式結果與差異:\n",
        "    \n",
        "```{pYTHON}\n",
        "## 方法（一）：if 敘述\n",
        "num = int(input(\"Enter a number: \"))\n",
        "if num < 6:\n",
        "    print(\"num is less than 6\")\n",
        "if num < 10:\n",
        "    print(\"num is less than 10\")\n",
        "if num > 3:\n",
        "    print(\"num is greater than 3\")\n",
        "print(\"Finished.\")\n",
        "\n",
        "## 方法（二）：if-elif-else敘述\n",
        "num = input(\"Pick a number! \")\n",
        "num = int(num)\n",
        "if num < 6:\n",
        "    print(\"number is less than 6.\")\n",
        "elif num < 10:\n",
        "    print(\"number is less than 10.\")\n",
        "elif num > 3:\n",
        "    print(\"number is greater than 3.\")\n",
        "else:\n",
        "    print(\"No relation is found.\")\n",
        "print(\"Finished.\")\n",
        "\n",
        "```"
      ]
    },
    {
      "cell_type": "markdown",
      "metadata": {
        "id": "93v3jXvHLffp"
      },
      "source": [
        "方法一的程式，答案可能會有兩個以上，因為沒有限制答案正確，就輸出結果，而方法二有用到if else ，這讓輸出的答案會停留在正確的程式\n",
        "行中。舉個例子，當輸入的答案為8時，方法一出來的會是\n",
        "Enter a number: 6\n",
        "num is less than 10\n",
        "num is greater than 3\n",
        "Finished.\n",
        "而方法二會是\n",
        "Pick a number! 6\n",
        "number is less than 10.\n",
        "Finished."
      ]
    },
    {
      "cell_type": "markdown",
      "metadata": {
        "id": "keojGwmHKjr-"
      },
      "source": [
        "#### 練習2. 時尚偵測師\n",
        "\n",
        "時尚達人Cher 和 Dionne要參加一個華麗的派對。他們想確保他們的穿搭與眾不同，但有也想保留一點共同的地方，比如兩人都喜歡粉紅色。讓我們寫一些程式，確保兩人的穿搭都個性十足！\n",
        "\n",
        "～首先，請用變數賦值的方式決定兩位的穿著\n",
        "\n",
        "```{Python}\n",
        "## 例如下面的穿著建議，請同學自行修改\n",
        "cher_dress_color = \"pink\"\n",
        "cher_shoe_color = \"white\"\n",
        "cher_has_earrings = True\n",
        "dionne_dress_color = \"purple\"\n",
        "dionne_shoe_color = \"pink\"\n",
        "dionne_has_earrings = True\n",
        "```\n",
        "\n",
        "～其次，請同學用真假值做時尚偵測，檢查一下兩位時尚達人的穿搭是否符合下面的要點:\n",
        "\n",
        "1. 至少有一人穿紫色 At least one person is wearing purple? \n",
        "2. 兩人穿不同顏色的衣服Cher and Dionne have different dress colors.\n",
        "3. 兩人都戴耳環Cher and Dionne are both earing earrings.\n",
        "4. 至少有一人穿粉紅色 At least one person is wearing pink.\n",
        "5. 沒人穿綠色。 No one is wearing green.\n",
        "6. 兩人穿同顏色的鞋子 Cher and Dionne have the same shoe color.\n",
        "\n",
        "```{PYTHON}\n",
        "## 例如\n",
        "print(f'At least one person is wearing pink? {cher_dress_color == \"pink\" or dionne_dress_color == \"pink\"}')\n",
        "\n",
        ".......請同學自行撰寫判斷程式\n",
        "```\n"
      ]
    },
    {
      "cell_type": "code",
      "metadata": {
        "colab": {
          "base_uri": "https://localhost:8080/"
        },
        "id": "WQy4TXLWKjr-",
        "outputId": "f3fbbf8b-7bc8-4762-8be2-9631a9a270d8"
      },
      "source": [
        "cher_dress_color = \"pink\"\n",
        "cher_shoe_color = \"white\"\n",
        "cher_has_earrings = True\n",
        "dionne_dress_color = \"purple\"\n",
        "dionne_shoe_color = \"pink\"\n",
        "dionne_has_earrings = True\n",
        "print(f'At least one person is wearing pink? {cher_dress_color == \"pink\" or dionne_dress_color == \"purple\"}')\n",
        "print(f'Cher and Dionne have different dress colors. {cher_dress_color == \"pink\" or dionne_dress_color == \"purple\"}')\n",
        "print(f'Cher and Dionne are both earing earrings. {cher_has_earrings == True or dionne_has_earrings  == True}')\n",
        "print(f'At least one person is wearing purple? {cher_dress_color == \"pink\" or dionne_dress_color == \"purple\"}')\n",
        "print(f'No one is wearing green {cher_dress_color == \"pink\" or dionne_dress_color == \"purple\"}')\n",
        "print(f'Cher and Dionne have the same shoe color. {cher_shoe_color == \"white\" or dionne_shoe_color  == \"pink\"}')"
      ],
      "execution_count": null,
      "outputs": [
        {
          "output_type": "stream",
          "text": [
            "At least one person is wearing pink? True\n",
            "Cher and Dionne have different dress colors. True\n",
            "Cher and Dionne are both earing earrings. True\n",
            "At least one person is wearing purple? True\n",
            "No one is wearing green True\n",
            "Cher and Dionne have the same shoe color. True\n"
          ],
          "name": "stdout"
        }
      ]
    },
    {
      "cell_type": "code",
      "metadata": {
        "id": "tu9cCfvwMDaS"
      },
      "source": [
        ""
      ],
      "execution_count": null,
      "outputs": []
    }
  ]
}