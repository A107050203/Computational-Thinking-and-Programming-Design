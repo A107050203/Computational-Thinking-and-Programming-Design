{
  "nbformat": 4,
  "nbformat_minor": 0,
  "metadata": {
    "colab": {
      "name": "陳怡君-Week4-練習作業.ipynb",
      "provenance": [],
      "collapsed_sections": [],
      "authorship_tag": "ABX9TyMYQIEwwFDfhFG5mwLUDXkb",
      "include_colab_link": true
    },
    "kernelspec": {
      "name": "python3",
      "display_name": "Python 3"
    }
  },
  "cells": [
    {
      "cell_type": "markdown",
      "metadata": {
        "id": "view-in-github",
        "colab_type": "text"
      },
      "source": [
        "<a href=\"https://colab.research.google.com/github/A107050203/Computational-Thinking-and-Programming-Design/blob/main/%E9%99%B3%E6%80%A1%E5%90%9B_Week4_%E7%B7%B4%E7%BF%92%E4%BD%9C%E6%A5%AD.ipynb\" target=\"_parent\"><img src=\"https://colab.research.google.com/assets/colab-badge.svg\" alt=\"Open In Colab\"/></a>"
      ]
    },
    {
      "cell_type": "code",
      "metadata": {
        "id": "b5oKAko3Uys2"
      },
      "source": [
        ""
      ],
      "execution_count": null,
      "outputs": []
    },
    {
      "cell_type": "markdown",
      "metadata": {
        "id": "OQ3cxiofhVSx"
      },
      "source": [
        ""
      ]
    },
    {
      "cell_type": "markdown",
      "metadata": {
        "id": "ddjDX0ddVHVf"
      },
      "source": [
        "# 隨堂練習"
      ]
    },
    {
      "cell_type": "markdown",
      "metadata": {
        "id": "17bRtNi_bfMA"
      },
      "source": [
        "第一步輸入電腦裡資料，讓電腦記起來，才會有各式各樣的運算跟操作。(記憶體的部分)"
      ]
    },
    {
      "cell_type": "markdown",
      "metadata": {
        "id": "MmQnulGQXgn5"
      },
      "source": [
        "計算⽤硬體：CPU(中央處理器)、FPU(浮點運算器)、GPU(圓形處理器)\r\n"
      ]
    },
    {
      "cell_type": "markdown",
      "metadata": {
        "id": "XkNx4u6ccS3R"
      },
      "source": [
        "系統部分分成啟動層(電腦開始運作)核心層(控管軟硬體之間關係能讓電腦順利操作) \r\n",
        "介面層(讓使用者成功與電腦連結)"
      ]
    },
    {
      "cell_type": "markdown",
      "metadata": {
        "id": "ZHbEfaC5dHfZ"
      },
      "source": [
        "使用電腦來解決問題，電腦基本運用方式輸入，而電腦與人溝通的方式就是程式"
      ]
    },
    {
      "cell_type": "markdown",
      "metadata": {
        "id": "iajWYuHfhZ_o"
      },
      "source": [
        "運算思維:是一種解決問題的方法\r\n",
        "1.問題拆解(將複雜問題分解成小問題)\r\n",
        "2.抽象化(將實體資訊(去蕪存菁)轉化成計算機可以處理的形式)\r\n",
        "3.模式辨識(將(具代表性)資訊中找出規律\r\n",
        "4.運算法(設計可以處理問題的方法)"
      ]
    },
    {
      "cell_type": "markdown",
      "metadata": {
        "id": "rRqqFZlwVQuY"
      },
      "source": [
        "# 課後練習"
      ]
    },
    {
      "cell_type": "markdown",
      "metadata": {
        "id": "bK8hjc-DVwcs"
      },
      "source": [
        "**從一則新聞報導，提出你對新聞系（OO系）學生為什麼要學「運算思維與程式設計」的見解。（告訴我新聞連結，以及你的觀點即可。）**"
      ]
    },
    {
      "cell_type": "markdown",
      "metadata": {
        "id": "uohhtD5IVONw"
      },
      "source": [
        "[連結文字](https://www.storm.mg/article/3117067?page=1)"
      ]
    },
    {
      "cell_type": "markdown",
      "metadata": {
        "id": "fra2K5_cYmUp"
      },
      "source": [
        "我一開始確實不是很懂為何要學習運算思維與程式設計這堂課，但當我上了這幾堂課，覺得其實蠻好玩的，而且也像新聞報導說的一樣可以運算思維與程式設計這堂課，但當我上了這幾堂課，覺得其實蠻好玩的，而且也像新聞報導說的一樣可以藉以分析問題、發展解題方法，並進行有效的決策，確實在學生時期訓練自己有這些能力，在畢業出社會時就能夠比較適應環境，雖然寫成是很難，但也會好好努力地去學習。"
      ]
    },
    {
      "cell_type": "code",
      "metadata": {
        "id": "T5TJZHCzaM_R"
      },
      "source": [
        ""
      ],
      "execution_count": null,
      "outputs": []
    }
  ]
}